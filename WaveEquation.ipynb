{
 "cells": [
  {
   "cell_type": "markdown",
   "metadata": {},
   "source": [
    "https://www.youtube.com/watch?v=PlmFUQCL_ok\n",
    "https://github.com/libigl/libigl-tutorial-data\n",
    "https://www.karlsims.com/rd.html\n",
    "https://onedrive.live.com/?cid=D593C887747D2172&id=D593C887747D2172%2126941&parId=D593C887747D2172%2126801&o=OneUp"
   ]
  },
  {
   "cell_type": "code",
   "execution_count": 1,
   "metadata": {},
   "outputs": [],
   "source": [
    "import sys\n",
    "import numpy as np\n",
    "import meshplot as mp\n",
    "import scipy.sparse as sp\n",
    "import matplotlib.pyplot as plt\n",
    "import pyvista as pv\n",
    "\n",
    "from src.mesh import Mesh\n",
    "from src.solver import WaveEquationCrankNicolson\n",
    "from utils.animate import animate_solution_normal, vector_field"
   ]
  },
  {
   "cell_type": "code",
   "execution_count": 2,
   "metadata": {},
   "outputs": [
    {
     "name": "stdout",
     "output_type": "stream",
     "text": [
      "Mesh caricata. vertici: 2400, facce: 4796\n"
     ]
    },
    {
     "data": {
      "application/vnd.jupyter.widget-view+json": {
       "model_id": "a7a93a2073e647cfa053ed844ba37211",
       "version_major": 2,
       "version_minor": 0
      },
      "text/plain": [
       "Renderer(camera=PerspectiveCamera(children=(DirectionalLight(color='white', intensity=0.6, position=(-0.000150…"
      ]
     },
     "metadata": {},
     "output_type": "display_data"
    }
   ],
   "source": [
    "# Mesh path\n",
    "mesh_path = './datasets/horse.obj'\n",
    "# Get the mesh\n",
    "mesh = Mesh()\n",
    "mesh.load_from_file(mesh_path)\n",
    "# Informazioni\n",
    "print(f\"Mesh caricata. vertici: {mesh.num_vertices}, facce: {mesh.num_faces}\")\n",
    "\n",
    "normals = mesh.get_vertex_normals(normalize=True)\n",
    "vector_field(mesh, normals, scale=2e-3)"
   ]
  },
  {
   "cell_type": "markdown",
   "metadata": {},
   "source": [
    "# Wave equation\n",
    "\n",
    "\\begin{equation}\n",
    "    \\frac{\\partial^2 u}{\\partial t^2} = \\alpha \\Delta u\n",
    "\\end{equation}"
   ]
  },
  {
   "cell_type": "code",
   "execution_count": 13,
   "metadata": {},
   "outputs": [],
   "source": [
    "# Time axis\n",
    "times = np.linspace(0, 45, 1000)\n",
    "\n",
    "# Initial condition\n",
    "initial_disp = np.zeros(shape=(mesh.num_vertices))\n",
    "#initial_disp[800] = 0.5\n",
    "\n",
    "initial_vel = np.zeros(shape=(mesh.num_vertices))\n",
    "initial_vel[800] = 0.1\n",
    "\n",
    "# Initialize the solver\n",
    "# TODO: è corretto il metodo?\n",
    "solver = WaveEquationCrankNicolson(mesh, times, wave_speed=10)\n",
    "\n",
    "# Evaluate the solution\n",
    "solution = solver.solve(initial_disp, initial_vel)"
   ]
  },
  {
   "cell_type": "code",
   "execution_count": 14,
   "metadata": {},
   "outputs": [
    {
     "data": {
      "text/plain": [
       "[<matplotlib.lines.Line2D at 0x19844d79c70>]"
      ]
     },
     "execution_count": 14,
     "metadata": {},
     "output_type": "execute_result"
    },
    {
     "data": {
      "image/png": "[encoded data removed]",
      "text/plain": [
       "<Figure size 640x480 with 1 Axes>"
      ]
     },
     "metadata": {},
     "output_type": "display_data"
    }
   ],
   "source": [
    "plt.plot(solution[:,800])"
   ]
  },
  {
   "cell_type": "code",
   "execution_count": 15,
   "metadata": {},
   "outputs": [],
   "source": [
    "v = mesh.vertices\n",
    "f = np.hstack((np.full((mesh.faces.shape[0], 1), 3), mesh.faces))\n",
    "visual_mesh = pv.PolyData(v,f)"
   ]
  },
  {
   "cell_type": "code",
   "execution_count": 17,
   "metadata": {},
   "outputs": [],
   "source": [
    "# TODO: la prima volta che stampo non mette la colormap\n",
    "\n",
    "visual_mesh.compute_normals(point_normals=True, cell_normals=False, auto_orient_normals=True, inplace=True)\n",
    "normals = visual_mesh.point_data['Normals']\n",
    "\n",
    "points = visual_mesh.points.copy()\n",
    "\n",
    "p = pv.Plotter(notebook=False, off_screen=True)\n",
    "mesh_actor = p.add_mesh(visual_mesh, show_scalar_bar=False, cmap='viridis')\n",
    "\n",
    "p.camera_position = (\n",
    "    visual_mesh.center - np.array([0, 0, 1.5*visual_mesh.length]),\n",
    "    visual_mesh.center,\n",
    "    (0, 1, 0)\n",
    ")\n",
    "\n",
    "p.open_gif('wave.gif')\n",
    "p.render()\n",
    "\n",
    "for i, frame in enumerate(solution[::20]):\n",
    "    displacement = normals * frame[:,np.newaxis]\n",
    "    visual_mesh.points = points + displacement\n",
    "    visual_mesh['scalars'] = frame\n",
    "    angle = 3/4*np.pi*i/50\n",
    "    p.camera_position = (\n",
    "        visual_mesh.center - np.array([-np.sin(angle)*1.5*visual_mesh.length, -angle/15, np.cos(angle)*1.5*visual_mesh.length]),\n",
    "        visual_mesh.center,\n",
    "        (0, 1, 0)\n",
    "    )\n",
    "    p.render()\n",
    "    p.write_frame()\n",
    "\n",
    "visual_mesh.points = points\n",
    "p.close()"
   ]
  },
  {
   "cell_type": "code",
   "execution_count": 7,
   "metadata": {},
   "outputs": [],
   "source": [
    "#animate_solution_normal(solution[::5], mesh, scale=1.0, pause_time=30)"
   ]
  }
 ],
 "metadata": {
  "kernelspec": {
   "display_name": "PYDEC_ENV",
   "language": "python",
   "name": "python3"
  },
  "language_info": {
   "codemirror_mode": {
    "name": "ipython",
    "version": 3
   },
   "file_extension": ".py",
   "mimetype": "text/x-python",
   "name": "python",
   "nbconvert_exporter": "python",
   "pygments_lexer": "ipython3",
   "version": "3.12.2"
  }
 },
 "nbformat": 4,
 "nbformat_minor": 2
}
