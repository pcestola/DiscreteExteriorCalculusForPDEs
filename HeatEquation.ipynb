{
 "cells": [
  {
   "cell_type": "markdown",
   "metadata": {},
   "source": [
    "https://www.youtube.com/watch?v=PlmFUQCL_ok\n",
    "https://github.com/libigl/libigl-tutorial-data\n",
    "https://www.karlsims.com/rd.html\n",
    "https://onedrive.live.com/?cid=D593C887747D2172&id=D593C887747D2172%2126941&parId=D593C887747D2172%2126801&o=OneUp"
   ]
  },
  {
   "cell_type": "code",
   "execution_count": 1,
   "metadata": {},
   "outputs": [],
   "source": [
    "import sys\n",
    "import numpy as np\n",
    "import meshplot as mp\n",
    "import scipy.sparse as sp\n",
    "import matplotlib.pyplot as plt\n",
    "\n",
    "from src.mesh import Mesh\n",
    "from src.solver import HeatEquation, TuringPattern, get_cot_laplacian\n",
    "from utils.animate import visualize_mesh, animate_solution"
   ]
  },
  {
   "cell_type": "code",
   "execution_count": 2,
   "metadata": {},
   "outputs": [
    {
     "name": "stdout",
     "output_type": "stream",
     "text": [
      "Mesh caricata. vertici: 3485, facce: 6966\n"
     ]
    },
    {
     "data": {
      "application/vnd.jupyter.widget-view+json": {
       "model_id": "53316118ae824567b4eb3b7749bb5a51",
       "version_major": 2,
       "version_minor": 0
      },
      "text/plain": [
       "Renderer(camera=PerspectiveCamera(children=(DirectionalLight(color='white', intensity=0.6, position=(-0.016860…"
      ]
     },
     "metadata": {},
     "output_type": "display_data"
    }
   ],
   "source": [
    "# Mesh path\n",
    "mesh_path = './datasets/bunny.off'\n",
    "# Get the mesh\n",
    "mesh = Mesh()\n",
    "mesh.load_from_file(mesh_path)\n",
    "# Informazioni\n",
    "print(f\"Mesh caricata. vertici: {mesh.num_vertices}, facce: {mesh.num_faces}\")\n",
    "\n",
    "visualize_mesh(mesh, faces=False, boundary=False)"
   ]
  },
  {
   "cell_type": "markdown",
   "metadata": {},
   "source": [
    "# Heat equation\n",
    "\n",
    "\\begin{equation}\n",
    "    \\frac{\\partial T}{\\partial t} = - \\alpha \\Delta T\n",
    "\\end{equation}"
   ]
  },
  {
   "cell_type": "code",
   "execution_count": 3,
   "metadata": {},
   "outputs": [
    {
     "data": {
      "image/png": "[encoded data removed]",
      "text/plain": [
       "<Figure size 300x300 with 1 Axes>"
      ]
     },
     "metadata": {},
     "output_type": "display_data"
    }
   ],
   "source": [
    "# Time axis\n",
    "times = np.linspace(0, 1, 400)\n",
    "\n",
    "# Initial condition\n",
    "initial_condition = np.zeros(shape=(mesh.num_vertices))\n",
    "x = mesh.vertices[:,0]\n",
    "blocco_sinistro = x < x.mean()\n",
    "blocco_destro = x >= x.mean()\n",
    "initial_condition[blocco_sinistro] = 10\n",
    "\n",
    "# Initialize the solver\n",
    "solver = HeatEquation(mesh, times, diffusivity=1_000)\n",
    "\n",
    "# Evaluate the solution\n",
    "solution = solver.solve(initial_condition, mesh.get_boundary())\n",
    "\n",
    "plt.figure(figsize=(3,3))\n",
    "#plt.plot((solution @ mesh.get_mass_matrix('csc')).sum(axis=1))  <--- vera\n",
    "plt.plot(solution[:,blocco_sinistro].mean(axis=1))\n",
    "plt.plot(solution[:,blocco_destro].mean(axis=1))\n",
    "plt.xlabel(\"time (s)\")\n",
    "plt.ylabel(\"Temperature (C)\")\n",
    "plt.ylim(0,12)\n",
    "plt.legend(['Blocco sinistro','Blocco destro'])\n",
    "plt.show()"
   ]
  },
  {
   "cell_type": "code",
   "execution_count": 4,
   "metadata": {},
   "outputs": [
    {
     "data": {
      "application/vnd.jupyter.widget-view+json": {
       "model_id": "9e712c098c3a41c28decc781f8d1c374",
       "version_major": 2,
       "version_minor": 0
      },
      "text/plain": [
       "Renderer(camera=PerspectiveCamera(children=(DirectionalLight(color='white', intensity=0.6, position=(-0.016860…"
      ]
     },
     "metadata": {},
     "output_type": "display_data"
    },
    {
     "data": {
      "application/vnd.jupyter.widget-view+json": {
       "model_id": "712b44f8be0d467c865a6d773874a304",
       "version_major": 2,
       "version_minor": 0
      },
      "text/plain": [
       "HBox(children=(Play(value=0, description='Press play', interval=0, max=399), IntSlider(value=0, max=399)))"
      ]
     },
     "execution_count": 4,
     "metadata": {},
     "output_type": "execute_result"
    }
   ],
   "source": [
    "animate_solution(solution, mesh, pause_time=0.05)"
   ]
  }
 ],
 "metadata": {
  "kernelspec": {
   "display_name": "PYDEC_ENV",
   "language": "python",
   "name": "python3"
  },
  "language_info": {
   "codemirror_mode": {
    "name": "ipython",
    "version": 3
   },
   "file_extension": ".py",
   "mimetype": "text/x-python",
   "name": "python",
   "nbconvert_exporter": "python",
   "pygments_lexer": "ipython3",
   "version": "3.12.2"
  }
 },
 "nbformat": 4,
 "nbformat_minor": 2
}
