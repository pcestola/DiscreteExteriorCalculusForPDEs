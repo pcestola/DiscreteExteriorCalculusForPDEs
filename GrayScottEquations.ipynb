{
 "cells": [
  {
   "cell_type": "markdown",
   "metadata": {},
   "source": [
    "https://www.youtube.com/watch?v=PlmFUQCL_ok\n",
    "\n",
    "https://github.com/libigl/libigl-tutorial-data\n",
    "\n",
    "https://www.karlsims.com/rd.html\n",
    "\n",
    "https://onedrive.live.com/?cid=D593C887747D2172&id=D593C887747D2172%2126941&parId=D593C887747D2172%2126801&o=OneUp"
   ]
  },
  {
   "cell_type": "code",
   "execution_count": 215,
   "metadata": {},
   "outputs": [],
   "source": [
    "import sys\n",
    "import numpy as np\n",
    "import meshplot as mp\n",
    "import scipy.sparse as sp\n",
    "import matplotlib.pyplot as plt\n",
    "\n",
    "from src.mesh import Mesh\n",
    "from src.solver import HeatEquation, TuringPattern, get_cot_laplacian\n",
    "from utils.animate import visualize_mesh, animate_solution, scalar_field"
   ]
  },
  {
   "cell_type": "code",
   "execution_count": 216,
   "metadata": {},
   "outputs": [
    {
     "name": "stdout",
     "output_type": "stream",
     "text": [
      "Mesh caricata. vertici: 35947, facce: 69451\n"
     ]
    },
    {
     "data": {
      "application/vnd.jupyter.widget-view+json": {
       "model_id": "4f6269e76b284b5ead2fbd46481d7a4a",
       "version_major": 2,
       "version_minor": 0
      },
      "text/plain": [
       "Renderer(camera=PerspectiveCamera(children=(DirectionalLight(color='white', intensity=0.6, position=(-0.016840…"
      ]
     },
     "metadata": {},
     "output_type": "display_data"
    }
   ],
   "source": [
    "# Mesh path\n",
    "mesh_path = './datasets/cow.obj'\n",
    "# Get the mesh\n",
    "mesh = Mesh()\n",
    "mesh.load_from_file(mesh_path)\n",
    "# Informazioni\n",
    "print(f\"Mesh caricata. vertici: {mesh.num_vertices}, facce: {mesh.num_faces}\")\n",
    "\n",
    "visualize_mesh(mesh, faces=False, boundary=False)"
   ]
  },
  {
   "cell_type": "markdown",
   "metadata": {},
   "source": [
    "# Turing pattern\n",
    "\n",
    "\\begin{cases}\n",
    "    (\\partial_t + D_1\\Delta)u = -uv^2 + f(1-u)\\\\\n",
    "    (\\partial_t + D_2\\Delta)v = uv^2 - (f+k)v\n",
    "\\end{cases}"
   ]
  },
  {
   "cell_type": "code",
   "execution_count": 231,
   "metadata": {},
   "outputs": [
    {
     "data": {
      "application/vnd.jupyter.widget-view+json": {
       "model_id": "7f6f5fe006d94a61bda800cb1cd4a55f",
       "version_major": 2,
       "version_minor": 0
      },
      "text/plain": [
       "Renderer(camera=PerspectiveCamera(children=(DirectionalLight(color='white', intensity=0.6, position=(-0.016840…"
      ]
     },
     "metadata": {},
     "output_type": "display_data"
    }
   ],
   "source": [
    "x = mesh.vertices[:,0]\n",
    "y = mesh.vertices[:,1]\n",
    "z = mesh.vertices[:,2]\n",
    "\n",
    "initial_u = np.ones(mesh.num_vertices)\n",
    "initial_v = np.zeros(mesh.num_vertices)\n",
    "for i in range(50):\n",
    "    id = np.random.randint(0,mesh.num_vertices)\n",
    "    x0 = mesh.vertices[id,0]\n",
    "    y0 = mesh.vertices[id,1]\n",
    "    z0 = mesh.vertices[id,2]\n",
    "    mask = (x-x0)**2+(y-y0)**2+(z-z0)**2<=0.00001\n",
    "    initial_u[mask] = 0.5\n",
    "    initial_v[mask] = 0.75\n",
    "\n",
    "scalar_field(mesh, initial_u)"
   ]
  },
  {
   "cell_type": "code",
   "execution_count": 218,
   "metadata": {},
   "outputs": [
    {
     "name": "stdout",
     "output_type": "stream",
     "text": [
      "-8.16143133060768 5.303862999999978\n"
     ]
    }
   ],
   "source": [
    "laplacian = get_cot_laplacian(mesh)\n",
    "print(laplacian.min(), laplacian.max())"
   ]
  },
  {
   "cell_type": "code",
   "execution_count": 232,
   "metadata": {},
   "outputs": [
    {
     "data": {
      "image/png": "[encoded data removed]",
      "text/plain": [
       "<Figure size 300x300 with 1 Axes>"
      ]
     },
     "metadata": {},
     "output_type": "display_data"
    }
   ],
   "source": [
    "#Du, Dv, f, k = 0.16, 0.08, 0.054, 0.055\n",
    "#Du, Dv, f, k = 0.16, 0.08, 0.024, 0.061\n",
    "Du, Dv, f, k = 0.16, 0.08, 0.037, 0.06\n",
    "\n",
    "dt = 0.75\n",
    "nt = 3000\n",
    "\n",
    "times = dt*np.arange(0,nt)\n",
    "solver = TuringPattern(mesh, times, Du, Dv, f, k)\n",
    "\n",
    "u, v = solver.solve(initial_u, initial_v, mesh.get_boundary())\n",
    "\n",
    "plt.figure(figsize=(3,3))\n",
    "plt.plot(u.sum(axis=1))\n",
    "plt.plot(v.sum(axis=1))\n",
    "plt.show()"
   ]
  },
  {
   "cell_type": "code",
   "execution_count": 233,
   "metadata": {},
   "outputs": [
    {
     "data": {
      "application/vnd.jupyter.widget-view+json": {
       "model_id": "ad0871f5189b4838ac003fe087ae8b05",
       "version_major": 2,
       "version_minor": 0
      },
      "text/plain": [
       "Renderer(camera=PerspectiveCamera(children=(DirectionalLight(color='white', intensity=0.6, position=(-0.016840…"
      ]
     },
     "metadata": {},
     "output_type": "display_data"
    },
    {
     "data": {
      "application/vnd.jupyter.widget-view+json": {
       "model_id": "de793fb27eb043beb019c3bc27f8599c",
       "version_major": 2,
       "version_minor": 0
      },
      "text/plain": [
       "HBox(children=(Play(value=0, description='Press play', interval=10, max=299), IntSlider(value=0, max=299)))"
      ]
     },
     "execution_count": 233,
     "metadata": {},
     "output_type": "execute_result"
    }
   ],
   "source": [
    "animate_solution(u[::10], mesh, pause_time=10, cmap='grey')"
   ]
  },
  {
   "cell_type": "markdown",
   "metadata": {},
   "source": [
    "https://pmneila.github.io/jsexp/grayscott/"
   ]
  },
  {
   "cell_type": "code",
   "execution_count": 228,
   "metadata": {},
   "outputs": [],
   "source": [
    "import pyvista as pv"
   ]
  },
  {
   "cell_type": "code",
   "execution_count": 234,
   "metadata": {},
   "outputs": [],
   "source": [
    "v = mesh.vertices\n",
    "f = np.hstack((np.full((mesh.faces.shape[0], 1), 3), mesh.faces))\n",
    "visual_mesh = pv.PolyData(v,f)"
   ]
  },
  {
   "cell_type": "code",
   "execution_count": 236,
   "metadata": {},
   "outputs": [
    {
     "name": "stdout",
     "output_type": "stream",
     "text": [
      "98.666666666666674\r"
     ]
    }
   ],
   "source": [
    "p = pv.Plotter(notebook=False, off_screen=True)\n",
    "visual_mesh[\"scalars\"] = u[0]\n",
    "mesh_actor = p.add_mesh(visual_mesh, show_scalar_bar=False, cmap='grey')\n",
    "\n",
    "p.camera_position = (\n",
    "    visual_mesh.center - np.array([0, 0, 1.5*visual_mesh.length]),\n",
    "    visual_mesh.center,\n",
    "    (0, 1, 0)\n",
    ")\n",
    "\n",
    "p.open_gif('gs2.gif')\n",
    "p.render()\n",
    "\n",
    "tot = u[::40].shape[0]\n",
    "\n",
    "for i, frame in enumerate(u[::40]):\n",
    "    visual_mesh['scalars'] = frame\n",
    "    angle = np.pi/2 + 1/4*np.pi*i/50\n",
    "    p.camera_position = (\n",
    "        visual_mesh.center - np.array([-np.sin(angle)*1.5*visual_mesh.length, -angle/15, np.cos(angle)*1.5*visual_mesh.length]),\n",
    "        visual_mesh.center,\n",
    "        (0, 1, 0)\n",
    "    )\n",
    "    p.render()\n",
    "    p.write_frame()\n",
    "    print(i/tot*100,end=\"\\r\")\n",
    "\n",
    "p.close()"
   ]
  },
  {
   "cell_type": "markdown",
   "metadata": {},
   "source": [
    "https://www.sciencedirect.com/science/article/pii/S0377042707000726"
   ]
  }
 ],
 "metadata": {
  "kernelspec": {
   "display_name": "PYDEC_ENV",
   "language": "python",
   "name": "python3"
  },
  "language_info": {
   "codemirror_mode": {
    "name": "ipython",
    "version": 3
   },
   "file_extension": ".py",
   "mimetype": "text/x-python",
   "name": "python",
   "nbconvert_exporter": "python",
   "pygments_lexer": "ipython3",
   "version": "3.12.2"
  }
 },
 "nbformat": 4,
 "nbformat_minor": 2
}
